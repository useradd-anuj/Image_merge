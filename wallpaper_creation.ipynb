{
 "cells": [
  {
   "cell_type": "code",
   "execution_count": 317,
   "id": "d5328e13",
   "metadata": {},
   "outputs": [],
   "source": [
    "import cv2\n",
    "import numpy"
   ]
  },
  {
   "cell_type": "code",
   "execution_count": 318,
   "id": "68584a7a",
   "metadata": {},
   "outputs": [],
   "source": [
    "photo= cv2.imread(\"laney-smith-FwNUSwJDZIQ-unsplash.jpg\")"
   ]
  },
  {
   "cell_type": "code",
   "execution_count": 319,
   "id": "f9b6dcf6",
   "metadata": {},
   "outputs": [],
   "source": [
    "def display(photo):\n",
    "    cv2.imshow(\"some\",photo)\n",
    "    cv2.waitKey()\n",
    "    cv2.destroyAllWindows()"
   ]
  },
  {
   "cell_type": "code",
   "execution_count": 320,
   "id": "90e6930b",
   "metadata": {},
   "outputs": [],
   "source": [
    "photo1=cv2.imread(\"red_hat_4x.jpeg\")"
   ]
  },
  {
   "cell_type": "code",
   "execution_count": 321,
   "id": "d0ac68c9",
   "metadata": {},
   "outputs": [],
   "source": [
    "photo=cv2.resize(photo, (1000,600), interpolation = cv2.INTER_AREA)"
   ]
  },
  {
   "cell_type": "code",
   "execution_count": 322,
   "id": "94598c39",
   "metadata": {},
   "outputs": [],
   "source": [
    "photo1=photo1[160:418,266:500]"
   ]
  },
  {
   "cell_type": "code",
   "execution_count": 323,
   "id": "b0a4da21",
   "metadata": {},
   "outputs": [],
   "source": [
    "photo1=cv2.resize(photo1, (250,243), interpolation = cv2.INTER_AREA)"
   ]
  },
  {
   "cell_type": "code",
   "execution_count": 324,
   "id": "50341cff",
   "metadata": {},
   "outputs": [],
   "source": [
    "i = 180\n",
    "\n",
    "\n",
    "while i != 423:\n",
    "    j = 650\n",
    "    while j!=900:\n",
    "        if list(photo1[i-180 , j-650]) != [0,0,0]:\n",
    "            photo[i,j] = photo1[i-180 , j-650]\n",
    "        j = j + 1\n",
    "    i = i + 1"
   ]
  },
  {
   "cell_type": "code",
   "execution_count": null,
   "id": "df34807e",
   "metadata": {},
   "outputs": [],
   "source": [
    "display(photo)"
   ]
  },
  {
   "cell_type": "code",
   "execution_count": null,
   "id": "a5def4ed",
   "metadata": {},
   "outputs": [],
   "source": []
  }
 ],
 "metadata": {
  "kernelspec": {
   "display_name": "Python 3 (ipykernel)",
   "language": "python",
   "name": "python3"
  },
  "language_info": {
   "codemirror_mode": {
    "name": "ipython",
    "version": 3
   },
   "file_extension": ".py",
   "mimetype": "text/x-python",
   "name": "python",
   "nbconvert_exporter": "python",
   "pygments_lexer": "ipython3",
   "version": "3.11.4"
  }
 },
 "nbformat": 4,
 "nbformat_minor": 5
}
